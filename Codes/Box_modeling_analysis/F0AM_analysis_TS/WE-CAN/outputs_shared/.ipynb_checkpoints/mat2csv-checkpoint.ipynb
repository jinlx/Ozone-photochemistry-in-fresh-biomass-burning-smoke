{
 "cells": [
  {
   "cell_type": "markdown",
   "metadata": {},
   "source": [
    "#### Play with mat strucuture\n",
    "In model data, we are mostly interested in mod_struc['S']\n",
    "1) S; \n",
    "\n",
    "2) BkgdConc, Chem, Cnames, Conc, InitConc, Met, ModelOptions, SolarParam, StepIndex, Time, iRO2\n",
    "\n",
    "3) Names in MCM/GEOS-Chem format\n",
    "\n",
    "dir(mat_struc['S']['Conc'])"
   ]
  },
  {
   "cell_type": "markdown",
   "metadata": {},
   "source": [
    "**In observation data, we still need to look into it when we further come back to office.**"
   ]
  },
  {
   "cell_type": "markdown",
   "metadata": {},
   "source": [
    "**Bkgdconc (20*18)**\n",
    "\n",
    "18: default + names of 17 trace gases?\n",
    "\n",
    "what's 20?\n",
    "\n",
    "sec item to acess to the data\n",
    "\n",
    "**It proves that the sec test we reach the data we need.**\n",
    "\n",
    "**We assume the order is same in the conc and in the cnames**"
   ]
  },
  {
   "cell_type": "code",
   "execution_count": 1,
   "metadata": {},
   "outputs": [],
   "source": [
    "# import modules\n",
    "import scipy.io\n",
    "import numpy as np\n",
    "import pandas as pd"
   ]
  },
  {
   "cell_type": "code",
   "execution_count": 2,
   "metadata": {},
   "outputs": [],
   "source": [
    "# change working directory\n",
    "import os\n",
    "os.chdir('/glade/u/home/lixujin/matlab/F0AM-4.2.1/Setups/Examples/Lixu/Collaborators/Wade/output_data/')\n",
    "#os.chdir('/glade/u/home/lixujin/matlab/F0AM-4.2.1/Setups/Examples/Lixu/Furans/output_data/')"
   ]
  },
  {
   "cell_type": "code",
   "execution_count": 3,
   "metadata": {},
   "outputs": [],
   "source": [
    "# design function to load table variable from MAT file.\n",
    "def getF0AM_mat_bkg(F0AM_model_file, variable_name):\n",
    "    # load file\n",
    "    mod_struc = scipy.io.loadmat(F0AM_model_file)\n",
    "    # get concentration and bkgdconc from model\n",
    "    mod_bkgdconc = (mod_struc['S']['BkgdConc']).item().item()\n",
    "    # convert tuple into array\n",
    "    mod_bkgdconc = np.array(mod_bkgdconc)\n",
    "    # convert 3D into 2D\n",
    "    mod_bkgdconc = mod_bkgdconc[:,:,0]\n",
    "    # get names of bkg values\n",
    "    mod_bkgdconc_names = list((mod_struc['S']['BkgdConc']).item().dtype.names)\n",
    "    # make the data frame\n",
    "    mod_bkgconc_df = pd.DataFrame(mod_bkgdconc, index=mod_bkgdconc_names)\n",
    "    mod_bkgconc_df.dropna(how='all')\n",
    "    return mod_bkgconc_df.loc[variable_name,:][0]\n",
    "    "
   ]
  },
  {
   "cell_type": "code",
   "execution_count": 4,
   "metadata": {},
   "outputs": [],
   "source": [
    "# design function to load table variable from MAT file.\n",
    "# return specific variable from the FOAM output\n",
    "def getF0AM_mat_conc(F0AM_model_file, variable_name):\n",
    "    \"\"\"\n",
    "    read a struct-ified table variable (and column names) from a MAT-file\n",
    "    and return pandas.DataFrame object.\n",
    "    \"\"\"\n",
    "    # load file\n",
    "    mod_struc = scipy.io.loadmat(F0AM_model_file)\n",
    "    # get concentration from model\n",
    "    mod_conc = (mod_struc['S']['Conc']).item().item()\n",
    "    # get cnames\n",
    "    mod_cnames = mod_struc['S']['Cnames'].item()\n",
    "    # get the mdoel time (in sec)\n",
    "    mod_time = mod_struc['S']['Time'].item()\n",
    "    # convert tuple into array\n",
    "    mod_conc = np.array(mod_conc)\n",
    "    # convert 3D into 2D\n",
    "    mod_conc = mod_conc[:,:,0]\n",
    "    # make the data frame\n",
    "    mod_df = pd.DataFrame(np.hstack((mod_conc, mod_cnames)))\n",
    "    # save last column of dataframe as a series\n",
    "    last_column = mod_df.iloc[: , -1]\n",
    "    # delete the last column\n",
    "    mod_df = mod_df.iloc[:, :-1]\n",
    "    # get names from the model\n",
    "    mod_cnames = []\n",
    "    for data in last_column:\n",
    "        data = data.item()\n",
    "        mod_cnames.append(data)\n",
    "    # rename index of the python dataframe\n",
    "    mod_df.index = mod_cnames\n",
    "    # rename the column names as time\n",
    "    mod_time = mod_time[:,0]\n",
    "    mod_df.columns = mod_time\n",
    "    return mod_df.loc[variable_name,:]\n",
    " "
   ]
  },
  {
   "cell_type": "markdown",
   "metadata": {},
   "source": [
    "##### For Wade"
   ]
  },
  {
   "cell_type": "code",
   "execution_count": 5,
   "metadata": {},
   "outputs": [
    {
     "data": {
      "text/plain": [
       "\"\\n#Lnames (101 compounds) \\n#Loss (3169 datapoints, 101 compounds) # unit: ppt/s\\n#OH (3169 datapoints) # unit: unknown, assuming it's ppt?\\n\\n# load RF file, customized\\nmod_struc_OH = scipy.io.loadmat('./pltrate_RF' + RF_num + '.mat')\\nPnames = mod_struc_OH['Pnames']\\nProd = mod_struc_OH['Prod']\\nLnames = mod_struc_OH['Lnames'][:-1]# remove dilution\\nLnames = np.concatenate(Lnames.flatten().tolist()).tolist()\\nLoss = mod_struc_OH['Loss']\\n\\n# calculate OHr\\nfor nn in range(len(Lnames)):\\n    Loss[:, nn] = -Loss[:, nn]/mod_df.loc['OH'].values\\n\\n# save out the OH reactivity data\\ndf_OHr = pd.DataFrame(Loss, \\n                      columns=np.array(Lnames),\\n                      index = mod_time)\\ndf_OHr.to_csv('./pltrate_RF' + RF_num + '.csv', index=True)\\n\\n# save out the OH reacitivity data + CO concentration data\\nresult = pd.concat([df_OHr, mod_df.transpose().iloc[: , 1:]['CO']], axis=1)\\nresult.to_csv('./OHr_CO_RF' + RF_num + '.csv', index=True)\\n\""
      ]
     },
     "execution_count": 5,
     "metadata": {},
     "output_type": "execute_result"
    }
   ],
   "source": [
    "# Modify from the getF0AM_mat_conc function above\n",
    "# 1) return concentrations; 2) return CO concentrations\n",
    "# load Concentration data, customized\n",
    "\n",
    "File_input = 'MCMv331_baseRF03_times3'\n",
    "#File_input = 'MCMv331_baseRF03_times1'\n",
    "\n",
    "#File_input = 'GCv13_baseRF03'\n",
    "mod_struc = scipy.io.loadmat(File_input + '.mat')\n",
    "# get concentration from model\n",
    "mod_conc = (mod_struc['S']['Conc']).item().item()\n",
    "# get cnames\n",
    "mod_cnames = mod_struc['S']['Cnames'].item()\n",
    "# get the mdoel time (in sec)\n",
    "mod_time = mod_struc['S']['Time'].item()\n",
    "# convert tuple into array\n",
    "mod_conc = np.array(mod_conc)\n",
    "# convert 3D into 2D\n",
    "mod_conc = mod_conc[:,:,0]\n",
    "# make the data frame\n",
    "mod_df = pd.DataFrame(np.hstack((mod_conc, mod_cnames)))\n",
    "# save last column of dataframe as a series\n",
    "last_column = mod_df.iloc[: , -1]\n",
    "# delete the last column\n",
    "mod_df = mod_df.iloc[:, :-1]\n",
    "# get names from the model\n",
    "mod_cnames = []\n",
    "for data in last_column:\n",
    "    data = data.item()\n",
    "    mod_cnames.append(data)\n",
    "# rename index of the python dataframe\n",
    "mod_df.index = mod_cnames\n",
    "# rename the column names as time\n",
    "mod_time = mod_time[:,0]\n",
    "mod_df.columns = mod_time\n",
    "# save out data for Wade\n",
    "mod_df.transpose().iloc[: , 1:].to_csv(File_input + '.csv', index=True)\n",
    "\n",
    "# Do the calcluation \n",
    "'''\n",
    "#Lnames (101 compounds) \n",
    "#Loss (3169 datapoints, 101 compounds) # unit: ppt/s\n",
    "#OH (3169 datapoints) # unit: unknown, assuming it's ppt?\n",
    "\n",
    "# load RF file, customized\n",
    "mod_struc_OH = scipy.io.loadmat('./pltrate_RF' + RF_num + '.mat')\n",
    "Pnames = mod_struc_OH['Pnames']\n",
    "Prod = mod_struc_OH['Prod']\n",
    "Lnames = mod_struc_OH['Lnames'][:-1]# remove dilution\n",
    "Lnames = np.concatenate(Lnames.flatten().tolist()).tolist()\n",
    "Loss = mod_struc_OH['Loss']\n",
    "\n",
    "# calculate OHr\n",
    "for nn in range(len(Lnames)):\n",
    "    Loss[:, nn] = -Loss[:, nn]/mod_df.loc['OH'].values\n",
    "\n",
    "# save out the OH reactivity data\n",
    "df_OHr = pd.DataFrame(Loss, \n",
    "                      columns=np.array(Lnames),\n",
    "                      index = mod_time)\n",
    "df_OHr.to_csv('./pltrate_RF' + RF_num + '.csv', index=True)\n",
    "\n",
    "# save out the OH reacitivity data + CO concentration data\n",
    "result = pd.concat([df_OHr, mod_df.transpose().iloc[: , 1:]['CO']], axis=1)\n",
    "result.to_csv('./OHr_CO_RF' + RF_num + '.csv', index=True)\n",
    "'''"
   ]
  },
  {
   "cell_type": "code",
   "execution_count": null,
   "metadata": {},
   "outputs": [],
   "source": []
  }
 ],
 "metadata": {
  "kernelspec": {
   "display_name": "Python [conda env:anaconda3-gcpy]",
   "language": "python",
   "name": "conda-env-anaconda3-gcpy-py"
  },
  "language_info": {
   "codemirror_mode": {
    "name": "ipython",
    "version": 3
   },
   "file_extension": ".py",
   "mimetype": "text/x-python",
   "name": "python",
   "nbconvert_exporter": "python",
   "pygments_lexer": "ipython3",
   "version": "3.6.9"
  }
 },
 "nbformat": 4,
 "nbformat_minor": 4
}
